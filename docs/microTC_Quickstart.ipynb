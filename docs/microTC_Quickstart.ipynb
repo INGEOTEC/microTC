{
 "cells": [
  {
   "cell_type": "markdown",
   "metadata": {
    "id": "EGuLFIo5OIk9"
   },
   "source": [
    "<p><img alt=\"Colaboratory logo\" height=\"50px\" src=\"http://ingeotec.mx/~mgraffg/ingeotec-bg.png\" align=\"left\" hspace=\"10px\" vspace=\"0px\"></p>\n",
    "\n",
    "<h1>$\\mu$TC's Quickstart Guide</h1>\n",
    "\n",
    "### http://ingeotec.mx\n",
    "\n",
    "### http://github.com/ingeotec"
   ]
  },
  {
   "cell_type": "markdown",
   "metadata": {
    "id": "Qk81MlePO4Fn"
   },
   "source": [
    "## Install $\\mu$TC"
   ]
  },
  {
   "cell_type": "code",
   "execution_count": null,
   "metadata": {
    "colab": {
     "base_uri": "https://localhost:8080/"
    },
    "id": "Ar5oxoJVjkpF",
    "outputId": "ef1a835f-3f22-43f5-e173-4ff8ce12a721"
   },
   "outputs": [],
   "source": [
    "!pip install microtc"
   ]
  },
  {
   "cell_type": "markdown",
   "metadata": {
    "id": "xiVYklc6PHxU"
   },
   "source": [
    "# First model"
   ]
  },
  {
   "cell_type": "markdown",
   "metadata": {
    "id": "ClNiy6LRPKG0"
   },
   "source": [
    "## Reading a dataset"
   ]
  },
  {
   "cell_type": "code",
   "execution_count": null,
   "metadata": {
    "colab": {
     "base_uri": "https://localhost:8080/"
    },
    "id": "amVyaGxTOHCz",
    "outputId": "953e1d09-0181-4908-e329-cb3fc9ce7df8"
   },
   "outputs": [],
   "source": [
    "!wget https://raw.githubusercontent.com/INGEOTEC/EvoMSA/master/EvoMSA/tests/tweets.json"
   ]
  },
  {
   "cell_type": "code",
   "execution_count": null,
   "metadata": {
    "id": "17BPV1zLeVvB"
   },
   "outputs": [],
   "source": [
    "from microtc.utils import tweet_iterator\n",
    "D = list(tweet_iterator(\"tweets.json\"))"
   ]
  },
  {
   "cell_type": "code",
   "execution_count": null,
   "metadata": {
    "colab": {
     "base_uri": "https://localhost:8080/"
    },
    "id": "ZMYgnIkLmaZP",
    "outputId": "7f385778-d6dd-4b6a-8277-381bcd0d1a47"
   },
   "outputs": [],
   "source": [
    "D[0]"
   ]
  },
  {
   "cell_type": "markdown",
   "metadata": {
    "id": "kkP21GbTPbjd"
   },
   "source": [
    "## Bag of Words"
   ]
  },
  {
   "cell_type": "code",
   "execution_count": null,
   "metadata": {
    "id": "aoQP-kNGjnmI"
   },
   "outputs": [],
   "source": [
    "from microtc.textmodel import TextModel\n",
    "tm = TextModel(token_list=[-1, -2, (2, 1), 4]).fit(D)"
   ]
  },
  {
   "cell_type": "code",
   "execution_count": null,
   "metadata": {
    "colab": {
     "base_uri": "https://localhost:8080/"
    },
    "id": "5cLZdJvJmtQ8",
    "outputId": "292b3042-2a90-4176-ba58-bb3d425f3c6e"
   },
   "outputs": [],
   "source": [
    "tm[\"hola mundo\"]"
   ]
  },
  {
   "cell_type": "code",
   "execution_count": null,
   "metadata": {
    "colab": {
     "base_uri": "https://localhost:8080/"
    },
    "id": "vHKAJ1kgm-Ol",
    "outputId": "314fc484-6a3d-41f9-8091-6062aea6edd9"
   },
   "outputs": [],
   "source": [
    "tm.tokenize(\"hello world\")"
   ]
  },
  {
   "cell_type": "code",
   "execution_count": null,
   "metadata": {
    "id": "leCFtrMqnCbH"
   },
   "outputs": [],
   "source": []
  },
  {
   "cell_type": "markdown",
   "metadata": {
    "id": "iRNHZaNYPomI"
   },
   "source": [
    "## Text Classifier"
   ]
  },
  {
   "cell_type": "code",
   "execution_count": null,
   "metadata": {
    "id": "LLaQwaD_jrp4"
   },
   "outputs": [],
   "source": [
    "from sklearn.svm import LinearSVC\n",
    "X = tm.transform(D)\n",
    "m = LinearSVC().fit(X, [x[\"klass\"] for x in D])"
   ]
  },
  {
   "cell_type": "code",
   "execution_count": null,
   "metadata": {
    "colab": {
     "base_uri": "https://localhost:8080/"
    },
    "id": "I-gEDweWn2PT",
    "outputId": "32bebf24-099a-4200-ce18-15d3ea5f59d8"
   },
   "outputs": [],
   "source": [
    "m.predict(tm.transform([\"buenos dias\"]))"
   ]
  },
  {
   "cell_type": "markdown",
   "metadata": {
    "id": "fs-qJ6BaTkhG"
   },
   "source": [
    "# Performance"
   ]
  },
  {
   "cell_type": "code",
   "execution_count": null,
   "metadata": {
    "id": "3HHCS7-zTnqn"
   },
   "outputs": [],
   "source": [
    "from sklearn import model_selection\n",
    "from sklearn.metrics import f1_score\n",
    "import numpy as np\n",
    "from tqdm import tqdm\n",
    "kfold = model_selection.StratifiedKFold(n_splits=5, shuffle=True)"
   ]
  },
  {
   "cell_type": "code",
   "execution_count": null,
   "metadata": {
    "colab": {
     "base_uri": "https://localhost:8080/"
    },
    "id": "HGLXk31woOyJ",
    "outputId": "2fe788c4-20e1-4ccb-96db-2b946f0982d2"
   },
   "outputs": [],
   "source": [
    "P = []\n",
    "X = np.empty((len(D), 1))\n",
    "for tr, vs in tqdm(kfold.split(X, [x[\"klass\"] for x in D]), total=5):\n",
    "  D_tr = [D[x] for x in tr]\n",
    "  D_vs = [D[x] for x in vs]\n",
    "  tm = TextModel(token_list=[-1, -2, 3]).fit(D_tr)\n",
    "  X = tm.transform(D_tr)\n",
    "  m = LinearSVC().fit(X, [x[\"klass\"] for x in D_tr])\n",
    "  hy = m.predict(tm.transform(D_vs))\n",
    "  _ = f1_score([x[\"klass\"] for x in D_vs], hy, average=None)\n",
    "  P.append(_)\n",
    "np.mean(P, axis=0)"
   ]
  },
  {
   "cell_type": "code",
   "execution_count": null,
   "metadata": {
    "id": "NTN6qgeLoc7f"
   },
   "outputs": [],
   "source": [
    "array([0.56117472, 0.        , 0.42189925, 0.72769939])"
   ]
  },
  {
   "cell_type": "code",
   "execution_count": null,
   "metadata": {
    "colab": {
     "base_uri": "https://localhost:8080/"
    },
    "id": "ptRpJF7Rphuh",
    "outputId": "dc8b53da-f1c2-4897-d4d4-716c98d298fc"
   },
   "outputs": [],
   "source": [
    "P"
   ]
  },
  {
   "cell_type": "code",
   "execution_count": null,
   "metadata": {
    "id": "VR1KgmYTpiIk"
   },
   "outputs": [],
   "source": []
  }
 ],
 "metadata": {
  "colab": {
   "collapsed_sections": [],
   "name": "microTC-Quickstart.ipynb",
   "provenance": []
  },
  "kernelspec": {
   "display_name": "Python 3",
   "language": "python",
   "name": "python3"
  },
  "language_info": {
   "codemirror_mode": {
    "name": "ipython",
    "version": 3
   },
   "file_extension": ".py",
   "mimetype": "text/x-python",
   "name": "python",
   "nbconvert_exporter": "python",
   "pygments_lexer": "ipython3",
   "version": "3.8.3"
  }
 },
 "nbformat": 4,
 "nbformat_minor": 4
}
